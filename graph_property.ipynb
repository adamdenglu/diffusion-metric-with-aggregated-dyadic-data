{
 "cells": [
  {
   "cell_type": "code",
   "execution_count": 1,
   "metadata": {},
   "outputs": [],
   "source": [
    "import pandas as pd\n",
    "import numpy as np\n",
    "import networkx as nx\n",
    "import networkx.algorithms.community as nx_comm"
   ]
  },
  {
   "cell_type": "markdown",
   "metadata": {},
   "source": [
    "#### property of the Cornell graph"
   ]
  },
  {
   "cell_type": "code",
   "execution_count": 2,
   "metadata": {},
   "outputs": [
    {
     "name": "stdout",
     "output_type": "stream",
     "text": [
      "number of nodes : 18660, number of edges : 790777, averag degree : 84.75637727759914\n"
     ]
    }
   ],
   "source": [
    "path = \"./dataset/socfb-Cornell5.mtx\"\n",
    "df_graph = pd.read_table(path, skiprows=1, names = [\"source\", \"target\"], sep=\" \")\n",
    "graph = nx.from_pandas_edgelist(df_graph)\n",
    "\n",
    "degree = list(dict(nx.degree(graph)).values())\n",
    "print(f\"number of nodes : {graph.number_of_nodes()}, number of edges : {graph.number_of_edges()}, averag degree : {np.mean(degree)}\")"
   ]
  },
  {
   "cell_type": "code",
   "execution_count": 3,
   "metadata": {},
   "outputs": [
    {
     "name": "stdout",
     "output_type": "stream",
     "text": [
      "cluster number : 240\n",
      "within cluster ratio :  0.3020004375443393\n"
     ]
    }
   ],
   "source": [
    "# clustering, fix the outcome of clustering\n",
    "clusters = nx_comm.louvain_communities(graph, seed=10, resolution=10)\n",
    "clusters = sorted(clusters, key=len, reverse=True)\n",
    "cluster_sizes = list(map(len, clusters))\n",
    "num_cluster = len(clusters)\n",
    "\n",
    "# dict: from node to its cluster\n",
    "inverse_cluster_dict = {\n",
    "    node: cl for cl in range(num_cluster) for node in clusters[cl]\n",
    "}\n",
    "print(f\"cluster number : {num_cluster}\")\n",
    "\n",
    "s = 0\n",
    "for edge in graph.edges:\n",
    "    if inverse_cluster_dict[edge[0]] == inverse_cluster_dict[edge[1]]:\n",
    "        s += 1\n",
    "within_cluster_ratio = s / graph.number_of_edges()\n",
    "print(\"within cluster ratio : \", within_cluster_ratio)"
   ]
  },
  {
   "cell_type": "markdown",
   "metadata": {},
   "source": [
    "#### property of the Stanford graph"
   ]
  },
  {
   "cell_type": "code",
   "execution_count": 4,
   "metadata": {},
   "outputs": [
    {
     "name": "stdout",
     "output_type": "stream",
     "text": [
      "number of nodes : 11586, number of edges : 568309, averag degree : 98.10271016744346\n"
     ]
    }
   ],
   "source": [
    "path = \"./dataset/socfb-Stanford3.mtx\"\n",
    "df_graph = pd.read_table(path, skiprows=1, names = [\"source\", \"target\"], sep=\" \")\n",
    "graph = nx.from_pandas_edgelist(df_graph)\n",
    "\n",
    "degree = list(dict(nx.degree(graph)).values())\n",
    "print(f\"number of nodes : {graph.number_of_nodes()}, number of edges : {graph.number_of_edges()}, averag degree : {np.mean(degree)}\")"
   ]
  },
  {
   "cell_type": "code",
   "execution_count": 5,
   "metadata": {},
   "outputs": [
    {
     "name": "stdout",
     "output_type": "stream",
     "text": [
      "cluster number : 192\n",
      "within cluster ratio :  0.26562662213690086\n"
     ]
    }
   ],
   "source": [
    "# clustering, fix the outcome of clustering\n",
    "clusters = nx_comm.louvain_communities(graph, seed=10, resolution=10)\n",
    "clusters = sorted(clusters, key=len, reverse=True)\n",
    "cluster_sizes = list(map(len, clusters))\n",
    "num_cluster = len(clusters)\n",
    "\n",
    "# dict: from node to its cluster\n",
    "inverse_cluster_dict = {\n",
    "    node: cl for cl in range(num_cluster) for node in clusters[cl]\n",
    "}\n",
    "print(f\"cluster number : {num_cluster}\")\n",
    "\n",
    "s = 0\n",
    "for edge in graph.edges:\n",
    "    if inverse_cluster_dict[edge[0]] == inverse_cluster_dict[edge[1]]:\n",
    "        s += 1\n",
    "within_cluster_ratio = s / graph.number_of_edges()\n",
    "print(\"within cluster ratio : \", within_cluster_ratio)"
   ]
  }
 ],
 "metadata": {
  "kernelspec": {
   "display_name": "r-environment",
   "language": "python",
   "name": "python3"
  },
  "language_info": {
   "codemirror_mode": {
    "name": "ipython",
    "version": 3
   },
   "file_extension": ".py",
   "mimetype": "text/x-python",
   "name": "python",
   "nbconvert_exporter": "python",
   "pygments_lexer": "ipython3",
   "version": "3.8.12"
  }
 },
 "nbformat": 4,
 "nbformat_minor": 2
}
